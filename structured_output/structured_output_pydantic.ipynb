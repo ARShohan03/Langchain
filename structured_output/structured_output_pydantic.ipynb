{
 "cells": [
  {
   "cell_type": "code",
   "execution_count": 8,
   "id": "cd202286",
   "metadata": {},
   "outputs": [
    {
     "data": {
      "text/plain": [
       "True"
      ]
     },
     "execution_count": 8,
     "metadata": {},
     "output_type": "execute_result"
    }
   ],
   "source": [
    "from langchain_huggingface import ChatHuggingFace, HuggingFaceEndpoint\n",
    "from dotenv import load_dotenv\n",
    "from typing import Annotated, Literal\n",
    "from pydantic import BaseModel, ValidatorFunctionWrapHandler, Field\n",
    "load_dotenv()"
   ]
  },
  {
   "cell_type": "code",
   "execution_count": 9,
   "id": "36e1cb05",
   "metadata": {},
   "outputs": [],
   "source": [
    "used_llm=HuggingFaceEndpoint(\n",
    "    repo_id=\"openai/gpt-oss-120b\",\n",
    "    task=\"text-generation\"\n",
    ")\n",
    "model=ChatHuggingFace(llm=used_llm)"
   ]
  },
  {
   "cell_type": "code",
   "execution_count": 11,
   "id": "a55959e9",
   "metadata": {},
   "outputs": [],
   "source": [
    "class review(BaseModel):\n",
    "    key : Annotated[str, \"a brief summery of the review\"]\n",
    "    title : Annotated[str, \"short title\"]\n",
    "    rating : int=1\n",
    "    watch :Annotated[Literal[\"yes\", \"no\", \"neutral\"], \"should i buy it \"]"
   ]
  },
  {
   "cell_type": "code",
   "execution_count": 12,
   "id": "49d82591",
   "metadata": {},
   "outputs": [
    {
     "ename": "NotImplementedError",
     "evalue": "Pydantic schema is not supported for function calling",
     "output_type": "error",
     "traceback": [
      "\u001b[31m---------------------------------------------------------------------------\u001b[39m",
      "\u001b[31mNotImplementedError\u001b[39m                       Traceback (most recent call last)",
      "\u001b[36mCell\u001b[39m\u001b[36m \u001b[39m\u001b[32mIn[12]\u001b[39m\u001b[32m, line 1\u001b[39m\n\u001b[32m----> \u001b[39m\u001b[32m1\u001b[39m stModel=\u001b[43mmodel\u001b[49m\u001b[43m.\u001b[49m\u001b[43mwith_structured_output\u001b[49m\u001b[43m(\u001b[49m\u001b[43mreview\u001b[49m\u001b[43m)\u001b[49m\n\u001b[32m      2\u001b[39m result=stModel.invoke(\n\u001b[32m      3\u001b[39m \u001b[33;03m\"\"\"\u001b[39;00m\n\u001b[32m      4\u001b[39m \u001b[33;03mI just got the PlayStation 6, and I’m honestly blown away by how smooth everything feels. The new custom GPU handles ray tracing like a dream—games look stunning with almost no frame drops. Loading times are basically nonexistent thanks to the ultra-fast SSD, and the new DualSense controller makes every action feel tactile and immersive.\u001b[39;00m\n\u001b[32m   (...)\u001b[39m\u001b[32m     27\u001b[39m \u001b[33;03m\"\"\"\u001b[39;00m\n\u001b[32m     28\u001b[39m )\n",
      "\u001b[36mFile \u001b[39m\u001b[32mc:\\Users\\abdur\\AppData\\Local\\Programs\\Python\\Python313\\Lib\\site-packages\\langchain_huggingface\\chat_models\\huggingface.py:941\u001b[39m, in \u001b[36mChatHuggingFace.with_structured_output\u001b[39m\u001b[34m(self, schema, method, include_raw, **kwargs)\u001b[39m\n\u001b[32m    939\u001b[39m     \u001b[38;5;28;01mif\u001b[39;00m is_pydantic_schema:\n\u001b[32m    940\u001b[39m         msg = \u001b[33m\"\u001b[39m\u001b[33mPydantic schema is not supported for function calling\u001b[39m\u001b[33m\"\u001b[39m\n\u001b[32m--> \u001b[39m\u001b[32m941\u001b[39m         \u001b[38;5;28;01mraise\u001b[39;00m \u001b[38;5;167;01mNotImplementedError\u001b[39;00m(msg)\n\u001b[32m    942\u001b[39m     output_parser: Union[JsonOutputKeyToolsParser, JsonOutputParser] = (\n\u001b[32m    943\u001b[39m         JsonOutputKeyToolsParser(key_name=tool_name, first_tool_only=\u001b[38;5;28;01mTrue\u001b[39;00m)\n\u001b[32m    944\u001b[39m     )\n\u001b[32m    945\u001b[39m \u001b[38;5;28;01melif\u001b[39;00m method == \u001b[33m\"\u001b[39m\u001b[33mjson_schema\u001b[39m\u001b[33m\"\u001b[39m:\n",
      "\u001b[31mNotImplementedError\u001b[39m: Pydantic schema is not supported for function calling"
     ]
    }
   ],
   "source": [
    "stModel=model.with_structured_output(review)\n",
    "result=stModel.invoke(\n",
    "\"\"\"\n",
    "I just got the PlayStation 6, and I’m honestly blown away by how smooth everything feels. The new custom GPU handles ray tracing like a dream—games look stunning with almost no frame drops. Loading times are basically nonexistent thanks to the ultra-fast SSD, and the new DualSense controller makes every action feel tactile and immersive.\n",
    "\n",
    "The console’s design is sleek, but it runs a bit warmer than I expected during long sessions. The lack of backward compatibility for some older games is a minor annoyance, and the $599 price tag is steep for casual gamers.\n",
    "\n",
    "Pros:\n",
    "\n",
    "Lightning-fast SSD and almost instant load times\n",
    "\n",
    "Gorgeous graphics with ray tracing support\n",
    "\n",
    "Immersive haptic feedback on DualSense controller\n",
    "\n",
    "Sleek, modern design\n",
    "\n",
    "Cons:\n",
    "\n",
    "Runs warm during extended gaming sessions\n",
    "\n",
    "Some older games not compatible\n",
    "\n",
    "Pricey for non-hardcore gamers\n",
    "\n",
    "Review by ghochu ghotra\n",
    "\"\"\"\n",
    ")"
   ]
  },
  {
   "cell_type": "code",
   "execution_count": null,
   "id": "ceae7cd4",
   "metadata": {},
   "outputs": [],
   "source": [
    "print(result)\n",
    "print(result[\"watch\"])"
   ]
  },
  {
   "cell_type": "code",
   "execution_count": null,
   "id": "12a4b831",
   "metadata": {},
   "outputs": [],
   "source": [
    "# note : cannot use a Pydantic model with with_structured_output() in the current implementation. LangChain’s with_structured_output() only supports JSON Schema style output, not Pydantic models."
   ]
  }
 ],
 "metadata": {
  "kernelspec": {
   "display_name": "Python 3",
   "language": "python",
   "name": "python3"
  },
  "language_info": {
   "codemirror_mode": {
    "name": "ipython",
    "version": 3
   },
   "file_extension": ".py",
   "mimetype": "text/x-python",
   "name": "python",
   "nbconvert_exporter": "python",
   "pygments_lexer": "ipython3",
   "version": "3.13.5"
  }
 },
 "nbformat": 4,
 "nbformat_minor": 5
}
