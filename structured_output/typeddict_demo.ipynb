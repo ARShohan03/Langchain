{
 "cells": [
  {
   "cell_type": "code",
   "execution_count": 1,
   "id": "bf5e0655",
   "metadata": {},
   "outputs": [],
   "source": [
    "from typing import TypedDict"
   ]
  },
  {
   "cell_type": "code",
   "execution_count": null,
   "id": "4936f602",
   "metadata": {},
   "outputs": [],
   "source": [
    "class Person(TypedDict):\n",
    "    name : str\n",
    "    roll : int"
   ]
  },
  {
   "cell_type": "code",
   "execution_count": 3,
   "metadata": {},
   "outputs": [],
   "source": [
    "new_person: Person = {\n",
    "    \"name\" : \"shohan\",\n",
    "    \"roll\" : 2003155\n",
    "}"
   ]
  },
  {
   "cell_type": "code",
   "execution_count": 4,
   "id": "6a4b9ba5",
   "metadata": {},
   "outputs": [
    {
     "name": "stdout",
     "output_type": "stream",
     "text": [
      "{'name': 'shohan', 'roll': 2003155}\n"
     ]
    }
   ],
   "source": [
    "print(new_person)"
   ]
  },
  {
   "cell_type": "code",
   "execution_count": 5,
   "id": "e756d484",
   "metadata": {},
   "outputs": [],
   "source": [
    "class anime(TypedDict):\n",
    "    name : str\n",
    "    protagonist: str"
   ]
  },
  {
   "cell_type": "code",
   "execution_count": 6,
   "id": "2d5bc077",
   "metadata": {},
   "outputs": [],
   "source": [
    "new_anime:anime={\n",
    "\"name\" : \"code geass\",\n",
    "\"protagonist\" : \"lelouch\"\n",
    "}"
   ]
  },
  {
   "cell_type": "code",
   "execution_count": 7,
   "id": "c9db33bc",
   "metadata": {},
   "outputs": [
    {
     "name": "stdout",
     "output_type": "stream",
     "text": [
      "{'name': 'code geass', 'protagonist': 'lelouch'}\n"
     ]
    }
   ],
   "source": [
    "print(new_anime)"
   ]
  }
 ],
 "metadata": {
  "kernelspec": {
   "display_name": "Python 3",
   "language": "python",
   "name": "python3"
  },
  "language_info": {
   "codemirror_mode": {
    "name": "ipython",
    "version": 3
   },
   "file_extension": ".py",
   "mimetype": "text/x-python",
   "name": "python",
   "nbconvert_exporter": "python",
   "pygments_lexer": "ipython3",
   "version": "3.13.5"
  }
 },
 "nbformat": 4,
 "nbformat_minor": 5
}
