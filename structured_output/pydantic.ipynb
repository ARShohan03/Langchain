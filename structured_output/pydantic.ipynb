{
 "cells": [
  {
   "cell_type": "code",
   "execution_count": 11,
   "id": "eac317ba",
   "metadata": {},
   "outputs": [],
   "source": [
    "from pydantic import BaseModel, Field, EmailStr\n",
    "from typing import Optional"
   ]
  },
  {
   "cell_type": "code",
   "execution_count": 2,
   "id": "79d6f2a3",
   "metadata": {},
   "outputs": [],
   "source": [
    "class anime (BaseModel):\n",
    "    name : str\n",
    "    "
   ]
  },
  {
   "cell_type": "code",
   "execution_count": 3,
   "id": "b39cceaf",
   "metadata": {},
   "outputs": [],
   "source": [
    "new_anime={\n",
    "    \"name\" : \"attack on time \"\n",
    "}"
   ]
  },
  {
   "cell_type": "code",
   "execution_count": 4,
   "id": "8ebb0eaf",
   "metadata": {},
   "outputs": [],
   "source": [
    "Objanime=anime(**new_anime)"
   ]
  },
  {
   "cell_type": "code",
   "execution_count": 5,
   "id": "c37ca439",
   "metadata": {},
   "outputs": [
    {
     "name": "stdout",
     "output_type": "stream",
     "text": [
      "name='attack on time '\n"
     ]
    }
   ],
   "source": [
    "print(Objanime)"
   ]
  },
  {
   "cell_type": "code",
   "execution_count": 23,
   "id": "b5d7c314",
   "metadata": {},
   "outputs": [],
   "source": [
    "class anime2 (BaseModel):\n",
    "    name : str= \"code geass\"\n",
    "    genre : str \n",
    "    release_year : Optional[int]=Field (gt=1950, lt=2030, default=2000)\n",
    "    protagonist : str"
   ]
  },
  {
   "cell_type": "code",
   "execution_count": 39,
   "id": "3f8c13ba",
   "metadata": {},
   "outputs": [],
   "source": [
    "new_anime2={\n",
    "    # \"name\" : \"tonikaku kawaii\",\n",
    "    \"genre\" : \"romance\",\n",
    "    \"release_year\" : 2020,\n",
    "    \"protagonist\" : \"nasa\"\n",
    "}"
   ]
  },
  {
   "cell_type": "code",
   "execution_count": 40,
   "id": "d3507cd2",
   "metadata": {},
   "outputs": [],
   "source": [
    "objanime2=anime2(**new_anime2)"
   ]
  },
  {
   "cell_type": "code",
   "execution_count": 41,
   "id": "6f00aad5",
   "metadata": {},
   "outputs": [
    {
     "name": "stdout",
     "output_type": "stream",
     "text": [
      "nasa\n"
     ]
    }
   ],
   "source": [
    "print(objanime2.protagonist)"
   ]
  },
  {
   "cell_type": "code",
   "execution_count": 42,
   "id": "386ba942",
   "metadata": {},
   "outputs": [],
   "source": [
    "dic=dict(objanime2)"
   ]
  },
  {
   "cell_type": "code",
   "execution_count": 43,
   "id": "cdfc7390",
   "metadata": {},
   "outputs": [
    {
     "name": "stdout",
     "output_type": "stream",
     "text": [
      "code geass\n"
     ]
    }
   ],
   "source": [
    "print(dic[\"name\"])"
   ]
  },
  {
   "cell_type": "code",
   "execution_count": 37,
   "id": "0c7120a7",
   "metadata": {},
   "outputs": [],
   "source": [
    "js=objanime2.model_dump_json()"
   ]
  },
  {
   "cell_type": "code",
   "execution_count": 38,
   "id": "dc6b8cc1",
   "metadata": {},
   "outputs": [
    {
     "name": "stdout",
     "output_type": "stream",
     "text": [
      "{\"name\":\"tonikaku kawaii\",\"genre\":\"romance\",\"release_year\":2020,\"protagonist\":\"nasa\"}\n"
     ]
    }
   ],
   "source": [
    "print(js)"
   ]
  },
  {
   "cell_type": "code",
   "execution_count": null,
   "id": "957466ab",
   "metadata": {},
   "outputs": [],
   "source": []
  }
 ],
 "metadata": {
  "kernelspec": {
   "display_name": "Python 3",
   "language": "python",
   "name": "python3"
  },
  "language_info": {
   "codemirror_mode": {
    "name": "ipython",
    "version": 3
   },
   "file_extension": ".py",
   "mimetype": "text/x-python",
   "name": "python",
   "nbconvert_exporter": "python",
   "pygments_lexer": "ipython3",
   "version": "3.13.5"
  }
 },
 "nbformat": 4,
 "nbformat_minor": 5
}
