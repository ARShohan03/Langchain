{
 "cells": [
  {
   "cell_type": "code",
   "execution_count": 25,
   "id": "64a88a1b",
   "metadata": {},
   "outputs": [
    {
     "data": {
      "text/plain": [
       "True"
      ]
     },
     "execution_count": 25,
     "metadata": {},
     "output_type": "execute_result"
    }
   ],
   "source": [
    "from langchain_huggingface import HuggingFaceEndpoint, ChatHuggingFace\n",
    "from dotenv import load_dotenv\n",
    "from typing import TypedDict, Annotated, Literal\n",
    "load_dotenv()"
   ]
  },
  {
   "cell_type": "code",
   "execution_count": 26,
   "id": "7cbb920f",
   "metadata": {},
   "outputs": [],
   "source": [
    "llm=HuggingFaceEndpoint(\n",
    "    repo_id=\"openai/gpt-oss-120b\",\n",
    "    task=\"text-generation\"\n",
    ")\n",
    "model=ChatHuggingFace(llm=llm)"
   ]
  },
  {
   "cell_type": "code",
   "execution_count": 28,
   "id": "b4ead1ab",
   "metadata": {},
   "outputs": [],
   "source": [
    "class review(TypedDict):\n",
    "    key: Annotated[str, \"a brief summery of the review\"]\n",
    "    title : Annotated[str, \"short title\"]\n",
    "    rating : int\n",
    "    watch : Annotated[Literal[\"yes\", \"no\", \"neutral\" ], \"tell me should i watch it?\"]\n",
    "    "
   ]
  },
  {
   "cell_type": "code",
   "execution_count": null,
   "id": "cf0d23b2",
   "metadata": {},
   "outputs": [],
   "source": []
  },
  {
   "cell_type": "code",
   "execution_count": 29,
   "id": "2de9fdc4",
   "metadata": {},
   "outputs": [],
   "source": [
    "struct_model=model.with_structured_output(review)\n",
    "\n",
    "result=struct_model.invoke(\n",
    "    \"\"\"\n",
    "1. For a Hyper-Action Anime: \"Gurren Lagann\"\n",
    "Title: I CAME HERE TO DRILL HOLES AND CHEW GUM. AND I'M ALL OUT OF GUM.\n",
    "Rating: ★★★★★ (5/5)\n",
    "\n",
    "Review:\n",
    "Listen. This show doesn't just break the scale; it uses the scale as fuel to punch a hole in the fabric of the universe itself. It starts with two boys in a hole in the ground and ends with them throwing galaxies like shurikens. Yes, you read that right.\n",
    "\n",
    "Is it logical? Absolutely not. Is it the most hyped, emotionally charged, and gloriously absurd piece of mecha animation ever created? 100% YES. The animation is wild, the characters are unforgettable, and the theme of evolution and fighting against impossible odds is delivered with the subtlety of a nuclear bomb. It's a masterpiece of pure, unadulterated passion. If you've ever felt small or powerless, this anime is the drill that will pierce the heavens of your soul.\n",
    "\n",
    "Final Verdict: Believe in the me that believes in you. Just watch it.\n",
    "\n",
    "\n",
    "\n",
    "\"\"\"\n",
    ")"
   ]
  },
  {
   "cell_type": "code",
   "execution_count": 30,
   "id": "a5b1906b",
   "metadata": {},
   "outputs": [
    {
     "name": "stdout",
     "output_type": "stream",
     "text": [
      "{'title': \"I CAME HERE TO DRILL HOLES AND CHEW GUM. AND I'M ALL OUT OF GUM.\", 'rating': 5, 'watch': 'yes', 'key': 'An over‑the‑top, wildly emotional mecha epic that shatters scale, gloriously absurd, and inspires viewers to believe in themselves.'}\n",
      "yes\n"
     ]
    }
   ],
   "source": [
    "print(result)\n",
    "print(result[\"watch\"])"
   ]
  },
  {
   "cell_type": "code",
   "execution_count": null,
   "id": "5fde2572",
   "metadata": {},
   "outputs": [],
   "source": []
  }
 ],
 "metadata": {
  "kernelspec": {
   "display_name": "Python 3",
   "language": "python",
   "name": "python3"
  },
  "language_info": {
   "codemirror_mode": {
    "name": "ipython",
    "version": 3
   },
   "file_extension": ".py",
   "mimetype": "text/x-python",
   "name": "python",
   "nbconvert_exporter": "python",
   "pygments_lexer": "ipython3",
   "version": "3.13.5"
  }
 },
 "nbformat": 4,
 "nbformat_minor": 5
}
