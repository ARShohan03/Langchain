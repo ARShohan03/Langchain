{
 "cells": [
  {
   "cell_type": "code",
   "execution_count": 2,
   "id": "b06677a5",
   "metadata": {},
   "outputs": [
    {
     "data": {
      "text/plain": [
       "False"
      ]
     },
     "execution_count": 2,
     "metadata": {},
     "output_type": "execute_result"
    }
   ],
   "source": [
    "from langchain_huggingface import HuggingFaceEndpoint, ChatHuggingFace\n",
    "from dotenv import load_dotenv\n",
    "dotenv_path = \"../Langchain_models/.env\"\n",
    "\n",
    "load_dotenv(dotenv_path)\n"
   ]
  },
  {
   "cell_type": "code",
   "execution_count": 3,
   "id": "b7d760a1",
   "metadata": {},
   "outputs": [
    {
     "name": "stderr",
     "output_type": "stream",
     "text": [
      "c:\\Users\\abdur\\OneDrive\\Documents\\Langchain\\Langchain_models\\venv\\Lib\\site-packages\\tqdm\\auto.py:21: TqdmWarning: IProgress not found. Please update jupyter and ipywidgets. See https://ipywidgets.readthedocs.io/en/stable/user_install.html\n",
      "  from .autonotebook import tqdm as notebook_tqdm\n"
     ]
    },
    {
     "name": "stdout",
     "output_type": "stream",
     "text": [
      "In the lecture hall where daylight drifts,  \n",
      "Your smile slipped in, a quiet spark that lifts.  \n",
      "Between the pages and the whispered notes,  \n",
      "My thoughts keep circling where your laughter floats.  \n",
      "Soon, I hope our paths will cross beyond the class.\n"
     ]
    }
   ],
   "source": [
    "\n",
    "\n",
    "llm=HuggingFaceEndpoint(\n",
    "    repo_id=\"openai/gpt-oss-120b\",\n",
    "    task=\"text-generation\",\n",
    "    temperature=1.5\n",
    ")\n",
    "\n",
    "model=ChatHuggingFace(llm=llm)\n",
    "\n",
    "result=model.invoke(\"write a 5 line on my crush - a girl i liked in my university\")\n",
    "\n",
    "print(result.content)"
   ]
  },
  {
   "cell_type": "code",
   "execution_count": null,
   "id": "6d50eddb",
   "metadata": {},
   "outputs": [],
   "source": []
  }
 ],
 "metadata": {
  "kernelspec": {
   "display_name": "venv",
   "language": "python",
   "name": "python3"
  },
  "language_info": {
   "codemirror_mode": {
    "name": "ipython",
    "version": 3
   },
   "file_extension": ".py",
   "mimetype": "text/x-python",
   "name": "python",
   "nbconvert_exporter": "python",
   "pygments_lexer": "ipython3",
   "version": "3.13.5"
  }
 },
 "nbformat": 4,
 "nbformat_minor": 5
}
