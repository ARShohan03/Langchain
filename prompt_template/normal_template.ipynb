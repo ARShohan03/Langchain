{
 "cells": [
  {
   "cell_type": "code",
   "execution_count": 7,
   "id": "ea27b683",
   "metadata": {},
   "outputs": [
    {
     "data": {
      "text/plain": [
       "True"
      ]
     },
     "execution_count": 7,
     "metadata": {},
     "output_type": "execute_result"
    }
   ],
   "source": [
    "from langchain_core.prompts import PromptTemplate\n",
    "from langchain_huggingface import ChatHuggingFace, HuggingFaceEmbeddings, HuggingFaceEndpoint\n",
    "from dotenv import load_dotenv\n",
    "load_dotenv()"
   ]
  },
  {
   "cell_type": "code",
   "execution_count": 8,
   "id": "64792ba9",
   "metadata": {},
   "outputs": [],
   "source": [
    "llm=HuggingFaceEndpoint(\n",
    "    repo_id=\"openai/gpt-oss-120b\",\n",
    "    task=\"text-generation\"\n",
    ")\n",
    "\n",
    "model=ChatHuggingFace(llm=llm)"
   ]
  },
  {
   "cell_type": "code",
   "execution_count": 9,
   "id": "adc1d273",
   "metadata": {},
   "outputs": [],
   "source": [
    "temp=PromptTemplate(\n",
    "    template=\"Give me the review about {name}\",\n",
    "    input_variables=[\"name\"]\n",
    ")"
   ]
  },
  {
   "cell_type": "code",
   "execution_count": 11,
   "id": "9f354add",
   "metadata": {},
   "outputs": [
    {
     "name": "stdout",
     "output_type": "stream",
     "text": [
      "**Code Geass: Lelouch of the Rebellion – A Critical Review**\n",
      "\n",
      "*First aired:* 2006 (Season 1) – 2008 (Season 2)  \n",
      "*Studio:* Sunrise  \n",
      "*Genre:* Mecha, Political Thriller, Supernatural, Drama  \n",
      "*Episodes:* 50 (plus a handful of OVA/recap films and the “Zero Requiem” movie)\n",
      "\n",
      "---\n",
      "\n",
      "## TL;DR\n",
      "\n",
      "Code Geass is a high‑octane blend of mecha action, chess‑like political intrigue, and supernatural mind‑games. It dazzles with striking visuals, an unforgettable anti‑hero protagonist, and a soundtrack that amplifies its melodrama. Its biggest strengths are the layered character arcs and the way it plays with moral gray zones; its biggest flaw is a few pacing hiccups and a finale that, while bold, divides fans. Overall, it remains a cornerstone of modern shōnen anime and a must‑watch for anyone who loves smart, stylish storytelling.\n",
      "\n",
      "---\n",
      "\n",
      "## 1. Premise (Spoiler‑Free)\n",
      "\n",
      "In an alternate 2010‑ish Earth, the Holy Britannian Empire has conquered Japan, renaming it *Area 11* and relegating its citizens to *Elevens*—essentially second‑class residents. The story follows **Lelouch vi Britannia**, a disaffected Britannian prince who, after obtaining a mysterious power called *Geass* (the ability to command any person to obey a single order), dons the masked identity **Zero** and leads a rebellion to topple the empire and create a world where his crippled sister **Nunnally** can live in peace.\n",
      "\n",
      "---\n",
      "\n",
      "## 2. Core Strengths\n",
      "\n",
      "### 2.1. Complex Protagonist & Moral Ambiguity  \n",
      "Lelouch is a masterclass in anti‑hero design. He is brilliant, charismatic, and ruthlessly pragmatic—yet deeply vulnerable, haunted by the trauma of his mother’s murder and his sister’s disability. The series constantly forces the viewer to question whether the ends truly justify the means. Even when he commits morally dubious acts (e.g., the “Zero Requiem” plan), the show provides a nuanced context that keeps the audience emotionally invested rather than simply condemning or glorifying him.\n",
      "\n",
      "### 2.2. Strategic “Chess” Battles  \n",
      "Each confrontation—whether it’s a battlefield with Knightmare Frames or a political showdown in the House of Britannia—is choreographed like a game of chess. The series excels at setting up intricate plans, then subverting expectations with clever twists. Even the Geass‑based “command” scenes feel like tactical moves, rewarding attentive viewers with layers of foreshadowing and payoff.\n",
      "\n",
      "### 2.3. Supporting Cast & Rivalry Dynamics  \n",
      "- **Suzaku Kururugi** – Lelouch’s childhood friend turned Imperial soldier, the perfect foil. Their ideological clash fuels the narrative engine.  \n",
      "- **C.C.** – The enigmatic, immortal witch who grants Geass; her cryptic past adds mythic depth.  \n",
      "- **Kallen, Gino, Milly, and the Black Knights** – Each member of Zero’s rebellion has a distinct motive and growth arc, offering a mosaic of perspectives on the Britannian occupation.  \n",
      "\n",
      "The rivals are never one‑dimensional; they each evolve, making betrayals and alliances feel organic.\n",
      "\n",
      "### 2.4. Visual & Audio Presentation  \n",
      "- **Animation:** Sunrise delivers fluid mecha combat, bold color palettes (the iconic red *Zero* mask against the grey Britannian backdrop), and striking character designs by Takahiro Kimura.  \n",
      "- **Music:** Kōtarō Nakagawa’s orchestral score, paired with the iconic opening “Colors” (by FLOW) and the haunting “Stories” (by Hitomi), heighten the emotional stakes. The soundtrack’s mix of rock, orchestration, and choir moments perfectly matches the series’ tonal swings.  \n",
      "\n",
      "### 2.5. Thematic Depth  \n",
      "- **Power & Responsibility:** The Geass itself becomes a metaphor for absolute power and its corrupting potential.  \n",
      "- **Identity & Masks:** Zero’s mask is a literal and figurative concealment of self—explored through multiple characters who wear figurative masks (political, societal, personal).  \n",
      "- **War & Civilians:** The series never shies from depicting civilian casualties, the cost of rebellion, and the propaganda used by both sides.\n",
      "\n",
      "---\n",
      "\n",
      "## 3. Notable Weaknesses\n",
      "\n",
      "| Issue | Why It Matters | Example |\n",
      "|-------|----------------|---------|\n",
      "| **Pacing Inconsistencies** | The early‑season “school” episodes feel slower, while the final act of Season 2 feels rushed, compressing major plot twists into a few episodes. | The rapid reveal of Lelouch’s true identity to Suzaku and the sudden “Zero Requiem” plan feel like they’re given insufficient narrative breathing space. |\n",
      "| **Geass Mechanics Vague** | While the Geass is central, its rules shift (e.g., the “One‑time use” limit, immunity, and the eye‑contact condition) without systematic exposition, which can frustrate viewers seeking internal logic. | C.C.’s sudden ability to remove Lelouch’s Geass or revive it later seems narrative‑driven rather than rule‑based. |\n",
      "| **Female Characters** | Some critics argue the series underutilizes its strong female cast (C.C., Kallen, Milly) as plot devices for Lelouch’s growth rather than independent arcs. | Kallen’s personal rebellion is often eclipsed by Lelouch’s scheming; her motivations are sometimes reduced to loyalty to “Zero.” |\n",
      "| **Final Ending** | The “Zero Requiem” conclusion, where Lelouch sacrifices himself to become a martyr, polarizes the audience—some view it as a brilliant thematic closure, others see it as a forced deus ex machina. | The abrupt shift from mastermind to sacrificial saint leaves little time for the emotional fallout on the rest of the cast. |\n",
      "\n",
      "---\n",
      "\n",
      "## 4. Season‑by‑Season Breakdown\n",
      "\n",
      "| Season | Episodes | Core Plot Beats | Highlights | Critic Score* |\n",
      "|--------|----------|-----------------|------------|----------------|\n",
      "| **R1 – Lelouch of the Rebellion** | 25 | Lelouch obtains Geass, forms the Black Knights, begins the battle against Britannia, discovers Suzaku’s identity. | First “Zero” reveal; Kallen’s “Red‑Black” battle; the “Battle of Narita.” | 86/100 |\n",
      "| **R2 – Lelouch of the Rebellion R2** | 25 | Escalation into world war, introduction of the *Order of the Seven*, Lelouch’s hidden identity, the final Zero Requiem. | “Zero Requiem” execution; the *Code* reveal (C.C.); the emotional “Lullaby of Wounds” epilogue. | 88/100 |\n",
      "\n",
      "\\*Aggregated from MyAnimeList, AniList, and Rotten Tomatoes (anime‑specific).\n",
      "\n",
      "---\n",
      "\n",
      "## 5. Expanded Media & Spin‑offs\n",
      "\n",
      "| Title | Format | Relevance |\n",
      "|-------|--------|-----------|\n",
      "| **Code Geass: Lelouch of the Re;surrection** | 2019 Film | Continuation of the “Zero Requian” timeline (the “Sequel” universe). |\n",
      "| **Code Geass: Akito the Exiled** | OVA (5 episodes) | Set in the European front, exploring the war’s broader scope. |\n",
      "| **Code Geass: Nightmare of Nunnally** | Manga (3‑vol.) | A “what‑if” side story focusing on Nunnally’s perspective. |\n",
      "| **Code Geass: Boukoku no Akito** | Light novel | Provides deeper lore on the Geass and the Code. |\n",
      "\n",
      "While the core story stands alone, the spin‑offs flesh out the world and are worth checking if you’ve devoured the main series.\n",
      "\n",
      "---\n",
      "\n",
      "## 6. Cultural Impact\n",
      "\n",
      "- **Iconic Mask** – Zero’s mask has become a popular cosplay staple and appears in countless memes, merchandise, and even fashion collaborations.  \n",
      "- **Influence on Later Works** – The strategic, morally ambiguous protagonist can be seen echoed in series like *Kill la Kill*, *Psycho‑Pass*, and *Attack on Titan* (particularly in the “Eren” arc).  \n",
      "- **Academic Interest** – Several university papers analyze Code Geass’ treatment of authoritarianism, the geopolitics of a “British‑styled empire,” and its commentary on post‑war Japanese identity.\n",
      "\n",
      "---\n",
      "\n",
      "## 7. Who Should Watch It?\n",
      "\n",
      "| Audience | Reason |\n",
      "|----------|--------|\n",
      "| **Fans of strategic anime** (e.g., *Death Note*, *Legend of the Galactic Heroes*) | The series balances mind‑games and action. |\n",
      "| **Mecha enthusiasts** | The Knightmare Frames are visually spectacular and tactically designed. |\n",
      "| **Drama‑heavy viewers** | Emotional stakes run high; character deaths are impactful. |\n",
      "| **Newcomers to anime** | Though some may find the political exposition dense, the show’s pacing improves quickly, providing a compelling introduction to the medium’s storytelling depth. |\n",
      "\n",
      "---\n",
      "\n",
      "## 8. Final Verdict\n",
      "\n",
      "**Rating:** ★★★★☆ (4.2/5)\n",
      "\n",
      "*Code Geass* remains a landmark series that expertly marries high‑concept politics with visceral action. Its protagonist’s charisma, the series’ willingness to confront ethical dilemmas, and its unforgettable visual style make it a rewarding binge for both seasoned anime fans and newcomers. While it harbors pacing flaws and occasional underutilisation of female characters, the overall experience is compelling enough to cement its status as a modern classic.\n",
      "\n",
      "> **Bottom line:** If you enjoy a story that treats you as an intellectual opponent—one that makes you cheer, cringe, and question your own moral compass—*Code Geass* is the perfect next binge. Grab your popcorn, set a reminder for the Geass‑activation scenes (to avoid spoilers), and prepare for a thrilling ride through rebellion, sacrifice, and the cost of power. \n",
      "\n",
      "--- \n",
      "\n",
      "*Happy watching!* 🎭🚀\n"
     ]
    }
   ],
   "source": [
    "prompt=temp.invoke({\"name\":\"code geass\"})\n",
    "result=model.invoke(prompt)\n",
    "print(result.content)"
   ]
  },
  {
   "cell_type": "code",
   "execution_count": null,
   "id": "e7eabfea",
   "metadata": {},
   "outputs": [],
   "source": []
  },
  {
   "cell_type": "code",
   "execution_count": null,
   "id": "29d92875",
   "metadata": {},
   "outputs": [],
   "source": []
  }
 ],
 "metadata": {
  "kernelspec": {
   "display_name": "Python 3",
   "language": "python",
   "name": "python3"
  },
  "language_info": {
   "codemirror_mode": {
    "name": "ipython",
    "version": 3
   },
   "file_extension": ".py",
   "mimetype": "text/x-python",
   "name": "python",
   "nbconvert_exporter": "python",
   "pygments_lexer": "ipython3",
   "version": "3.13.5"
  }
 },
 "nbformat": 4,
 "nbformat_minor": 5
}
