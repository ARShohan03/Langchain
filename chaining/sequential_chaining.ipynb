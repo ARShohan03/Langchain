{
 "cells": [
  {
   "cell_type": "code",
   "execution_count": 35,
   "id": "626f6ab0",
   "metadata": {},
   "outputs": [
    {
     "name": "stderr",
     "output_type": "stream",
     "text": [
      "'{sys.executable}' is not recognized as an internal or external command,\n",
      "operable program or batch file.\n"
     ]
    }
   ],
   "source": [
    "!{sys.executable} -m pip install grandalf\n"
   ]
  },
  {
   "cell_type": "code",
   "execution_count": 36,
   "id": "a22e6510",
   "metadata": {},
   "outputs": [
    {
     "data": {
      "text/plain": [
       "True"
      ]
     },
     "execution_count": 36,
     "metadata": {},
     "output_type": "execute_result"
    }
   ],
   "source": [
    "from langchain_huggingface import HuggingFaceEndpoint, ChatHuggingFace\n",
    "from dotenv import load_dotenv\n",
    "from langchain_core.output_parsers import StrOutputParser\n",
    "from langchain_core.prompts import PromptTemplate\n",
    "load_dotenv()"
   ]
  },
  {
   "cell_type": "code",
   "execution_count": 37,
   "metadata": {},
   "outputs": [],
   "source": [
    "prompt1=PromptTemplate(\n",
    "    template=\"give me summery of this anime named {anime_name}\",\n",
    "    input_variables=[\"anime_anme\"]\n",
    ")\n",
    "model_name=HuggingFaceEndpoint(\n",
    "    repo_id=\"google/gemma-2-2b-it\",\n",
    "    task=\"text-generation\"\n",
    ")\n",
    "model=ChatHuggingFace(\n",
    "    llm=model_name\n",
    ")\n",
    "output1=StrOutputParser()"
   ]
  },
  {
   "cell_type": "code",
   "execution_count": 38,
   "id": "41b6de41",
   "metadata": {},
   "outputs": [],
   "source": [
    "prompt2=PromptTemplate(\n",
    "    template=\"give me just 5 important information from this {text}\",\n",
    "    input_variables=[\"text\"]\n",
    ")\n",
    "# output2=StrOutputParser()"
   ]
  },
  {
   "cell_type": "code",
   "execution_count": 39,
   "id": "c20dcc5d",
   "metadata": {},
   "outputs": [],
   "source": [
    "chain=prompt1 | model | output1 | prompt2 | model | output1"
   ]
  },
  {
   "cell_type": "code",
   "execution_count": 40,
   "id": "6beddc1a",
   "metadata": {},
   "outputs": [],
   "source": [
    "result=chain.invoke({\"anime_name\" : \"code_geass\"})"
   ]
  },
  {
   "cell_type": "code",
   "execution_count": 41,
   "id": "d9228525",
   "metadata": {},
   "outputs": [
    {
     "name": "stdout",
     "output_type": "stream",
     "text": [
      "Here are 5 important pieces of information from the provided description of Code Geass:\n",
      "\n",
      "1. **Lelouch seeks global justice:**  He dreams of a world free from the oppressive rule of the Suzaku Empire and its reliance on war and subjugation.\n",
      "2. **The Geass grants him control:**  Lelouch gains the ability to control others with a word, a remarkable power that he uses to wage his rebellion and undermine the Empire.\n",
      "3. **Power and Rebellion are central themes:**  Code Geass questions the nature of power and whether freedom can be achieved through its mastery or if true liberation requires subverting it.  \n",
      "4. **Complex characters drive the plot:**  We encounter characters like Lelouch, Nunnally, and Charles, each grappling with individual desires, responsibilities, and the weight of historical destiny.\n",
      "5. **Rich story with layered plotlines:**  The anime explores multiple conflicts: Lelouch's personal internal struggle for justice, the political machinations of the Empire, and intricate character relationships, making it a captivating watch.\n",
      "\n",
      "\n",
      "Let me know if you'd like more details on any of these aspects or have other questions about Code Geass! \n",
      "\n"
     ]
    }
   ],
   "source": [
    "print(result)"
   ]
  },
  {
   "cell_type": "code",
   "execution_count": 42,
   "id": "79c0cb5e",
   "metadata": {},
   "outputs": [
    {
     "name": "stdout",
     "output_type": "stream",
     "text": [
      "     +-------------+       \n",
      "     | PromptInput |       \n",
      "     +-------------+       \n",
      "            *              \n",
      "            *              \n",
      "            *              \n",
      "    +----------------+     \n",
      "    | PromptTemplate |     \n",
      "    +----------------+     \n",
      "            *              \n",
      "            *              \n",
      "            *              \n",
      "   +-----------------+     \n",
      "   | ChatHuggingFace |     \n",
      "   +-----------------+     \n",
      "            *              \n",
      "            *              \n",
      "            *              \n",
      "   +-----------------+     \n",
      "   | StrOutputParser |     \n",
      "   +-----------------+     \n",
      "            *              \n",
      "            *              \n",
      "            *              \n",
      "+-----------------------+  \n",
      "| StrOutputParserOutput |  \n",
      "+-----------------------+  \n",
      "            *              \n",
      "            *              \n",
      "            *              \n",
      "    +----------------+     \n",
      "    | PromptTemplate |     \n",
      "    +----------------+     \n",
      "            *              \n",
      "            *              \n",
      "            *              \n",
      "   +-----------------+     \n",
      "   | ChatHuggingFace |     \n",
      "   +-----------------+     \n",
      "            *              \n",
      "            *              \n",
      "            *              \n",
      "   +-----------------+     \n",
      "   | StrOutputParser |     \n",
      "   +-----------------+     \n",
      "            *              \n",
      "            *              \n",
      "            *              \n",
      "+-----------------------+  \n",
      "| StrOutputParserOutput |  \n",
      "+-----------------------+  \n"
     ]
    }
   ],
   "source": [
    "chain.get_graph().print_ascii()"
   ]
  },
  {
   "cell_type": "code",
   "execution_count": null,
   "id": "85a5fa7e",
   "metadata": {},
   "outputs": [],
   "source": []
  }
 ],
 "metadata": {
  "kernelspec": {
   "display_name": "Python 3",
   "language": "python",
   "name": "python3"
  },
  "language_info": {
   "codemirror_mode": {
    "name": "ipython",
    "version": 3
   },
   "file_extension": ".py",
   "mimetype": "text/x-python",
   "name": "python",
   "nbconvert_exporter": "python",
   "pygments_lexer": "ipython3",
   "version": "3.13.5"
  }
 },
 "nbformat": 4,
 "nbformat_minor": 5
}
