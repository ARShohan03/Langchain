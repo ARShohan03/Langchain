{
 "cells": [
  {
   "cell_type": "code",
   "execution_count": 2,
   "id": "4b89db2b",
   "metadata": {},
   "outputs": [],
   "source": [
    "from langchain_huggingface import HuggingFaceEndpoint, ChatHuggingFace\n",
    "from dotenv import load_dotenv\n",
    "from langchain_core.prompts import PromptTemplate\n",
    "from langchain_core.output_parsers import StrOutputParser"
   ]
  },
  {
   "cell_type": "code",
   "execution_count": 3,
   "id": "7a0440cb",
   "metadata": {},
   "outputs": [
    {
     "data": {
      "text/plain": [
       "True"
      ]
     },
     "execution_count": 3,
     "metadata": {},
     "output_type": "execute_result"
    }
   ],
   "source": [
    "load_dotenv()"
   ]
  },
  {
   "cell_type": "code",
   "execution_count": 4,
   "id": "71dd4346",
   "metadata": {},
   "outputs": [],
   "source": [
    "prompt=PromptTemplate(\n",
    "    \n",
    "        template=\"give me 5 interesting facts about the anime - {anime_name}\",\n",
    "        input_variables=[\"anime_name\"]\n",
    ")\n"
   ]
  },
  {
   "cell_type": "code",
   "execution_count": 5,
   "id": "bed030f9",
   "metadata": {},
   "outputs": [
    {
     "name": "stderr",
     "output_type": "stream",
     "text": [
      "c:\\Users\\abdur\\AppData\\Local\\Programs\\Python\\Python313\\Lib\\site-packages\\tqdm\\auto.py:21: TqdmWarning: IProgress not found. Please update jupyter and ipywidgets. See https://ipywidgets.readthedocs.io/en/stable/user_install.html\n",
      "  from .autonotebook import tqdm as notebook_tqdm\n"
     ]
    }
   ],
   "source": [
    "model_name=HuggingFaceEndpoint(\n",
    "    repo_id=\"google/gemma-2-2b-it\",\n",
    "    task=\"text-generation\"\n",
    ")\n",
    "model=ChatHuggingFace(llm=model_name)"
   ]
  },
  {
   "cell_type": "code",
   "execution_count": 6,
   "id": "4321fd4a",
   "metadata": {},
   "outputs": [],
   "source": [
    "parser=StrOutputParser()"
   ]
  },
  {
   "cell_type": "code",
   "execution_count": 7,
   "id": "1ef575ba",
   "metadata": {},
   "outputs": [],
   "source": [
    "chain=prompt|model|parser"
   ]
  },
  {
   "cell_type": "code",
   "execution_count": 8,
   "id": "5e94e4b5",
   "metadata": {},
   "outputs": [],
   "source": [
    "result=chain.invoke({\"anime_name\":\"code geass\"})"
   ]
  },
  {
   "cell_type": "code",
   "execution_count": 9,
   "id": "c6d22a5e",
   "metadata": {},
   "outputs": [
    {
     "name": "stdout",
     "output_type": "stream",
     "text": [
      "Time to dive into the underground action and political intrigue of Code Geass! Here are 5 interesting facts about the show:\n",
      "\n",
      "1. **Inspired by Realistic Parallels:**  Code Geass author, Sunrise, drew inspiration from historical events like the Russo-Japanese War, the collapse of the Soviet Union, and the global power shifts of the 20th-century.  The world-building reflects the political tensions and conflicts we see in our own time, making its themes feel surprisingly relevant. \n",
      "\n",
      "2. **Emperor's Choice:** The iconic black shells of Lelouch's Knights of the Round were originally designed with a bulletproof-style texture.  However, the final artist wanted them to evoke a sense of dirt and organic fear, making them stand out further in the scene.\n",
      "\n",
      "3. **Beyond the Clichés: **  Code Geass explores more in-depth political themes than you might expect from this genre.  It tackles issues like colonialism, political manipulation, ethical dilemmas surrounding war, and the complex interactions between different nations and cultures.\n",
      "\n",
      "4. **Grey Morality is the Key:**  Code Geass throws us headfirst into a complex web of grey morality.  Characters like Lelouch, Britannia's ultimate strategist, often make questionable decisions in the name of achieving greater good. Their motivations are not always straightforward, prompting viewers to condemn and even sympathise with their choices.\n",
      "\n",
      "5. **Cinematic Craftsmanship:**  The entire series is a visual feast. From the vibrant artistry of the character designs to the intricate  backgrounds and choreography of each scene, Code Geass showcases the artistic skill of Sunrise's animators.\n",
      "\n",
      "\n",
      "Let me know if you'd like to explore any of these further! Do you have any other areas of Code Geass that you wanted more information about?  \n",
      "\n"
     ]
    }
   ],
   "source": [
    "print(result)"
   ]
  },
  {
   "cell_type": "code",
   "execution_count": 10,
   "id": "de8c7d3c",
   "metadata": {},
   "outputs": [
    {
     "name": "stdout",
     "output_type": "stream",
     "text": [
      "Collecting grandalf\n",
      "  Using cached grandalf-0.8-py3-none-any.whl.metadata (1.7 kB)\n",
      "Requirement already satisfied: pyparsing in c:\\users\\abdur\\appdata\\local\\programs\\python\\python313\\lib\\site-packages (from grandalf) (3.2.3)\n",
      "Using cached grandalf-0.8-py3-none-any.whl (41 kB)\n",
      "Installing collected packages: grandalf\n",
      "Successfully installed grandalf-0.8\n"
     ]
    },
    {
     "name": "stderr",
     "output_type": "stream",
     "text": [
      "\n",
      "[notice] A new release of pip is available: 25.1.1 -> 25.2\n",
      "[notice] To update, run: python.exe -m pip install --upgrade pip\n"
     ]
    }
   ],
   "source": [
    "!{sys.executable} -m pip install grandalf\n"
   ]
  },
  {
   "cell_type": "code",
   "execution_count": 11,
   "id": "986d5ad5",
   "metadata": {},
   "outputs": [
    {
     "name": "stdout",
     "output_type": "stream",
     "text": [
      "     +-------------+       \n",
      "     | PromptInput |       \n",
      "     +-------------+       \n",
      "            *              \n",
      "            *              \n",
      "            *              \n",
      "    +----------------+     \n",
      "    | PromptTemplate |     \n",
      "    +----------------+     \n",
      "            *              \n",
      "            *              \n",
      "            *              \n",
      "   +-----------------+     \n",
      "   | ChatHuggingFace |     \n",
      "   +-----------------+     \n",
      "            *              \n",
      "            *              \n",
      "            *              \n",
      "   +-----------------+     \n",
      "   | StrOutputParser |     \n",
      "   +-----------------+     \n",
      "            *              \n",
      "            *              \n",
      "            *              \n",
      "+-----------------------+  \n",
      "| StrOutputParserOutput |  \n",
      "+-----------------------+  \n"
     ]
    }
   ],
   "source": [
    "chain.get_graph().print_ascii()"
   ]
  },
  {
   "cell_type": "code",
   "execution_count": 12,
   "id": "575f21d0",
   "metadata": {},
   "outputs": [
    {
     "name": "stdout",
     "output_type": "stream",
     "text": [
      "c:\\Users\\abdur\\AppData\\Local\\Programs\\Python\\Python313\\python.exe\n"
     ]
    }
   ],
   "source": [
    "import sys\n",
    "print(sys.executable)\n"
   ]
  },
  {
   "cell_type": "code",
   "execution_count": null,
   "id": "79db1dcd",
   "metadata": {},
   "outputs": [],
   "source": []
  }
 ],
 "metadata": {
  "kernelspec": {
   "display_name": "Python 3",
   "language": "python",
   "name": "python3"
  },
  "language_info": {
   "codemirror_mode": {
    "name": "ipython",
    "version": 3
   },
   "file_extension": ".py",
   "mimetype": "text/x-python",
   "name": "python",
   "nbconvert_exporter": "python",
   "pygments_lexer": "ipython3",
   "version": "3.13.5"
  }
 },
 "nbformat": 4,
 "nbformat_minor": 5
}
