{
 "cells": [
  {
   "cell_type": "code",
   "execution_count": 93,
   "id": "580549bd",
   "metadata": {},
   "outputs": [
    {
     "name": "stderr",
     "output_type": "stream",
     "text": [
      "'{sys.executable}' is not recognized as an internal or external command,\n",
      "operable program or batch file.\n"
     ]
    }
   ],
   "source": [
    "!{sys.executable} -m pip install grandalf\n"
   ]
  },
  {
   "cell_type": "code",
   "execution_count": 94,
   "id": "afe83959",
   "metadata": {},
   "outputs": [
    {
     "data": {
      "text/plain": [
       "True"
      ]
     },
     "execution_count": 94,
     "metadata": {},
     "output_type": "execute_result"
    }
   ],
   "source": [
    "from langchain_huggingface import HuggingFaceEndpoint, ChatHuggingFace\n",
    "from dotenv import load_dotenv\n",
    "from langchain_core.prompts import PromptTemplate\n",
    "from langchain_core.output_parsers import StrOutputParser\n",
    "from langchain.schema.runnable import RunnableParallel\n",
    "load_dotenv()"
   ]
  },
  {
   "cell_type": "code",
   "execution_count": 95,
   "id": "587a6d7a",
   "metadata": {},
   "outputs": [],
   "source": [
    "model_name=HuggingFaceEndpoint(\n",
    "    repo_id=\"google/gemma-2-2b-it\",\n",
    "    task=\"text-generation\"\n",
    ")\n",
    "model=ChatHuggingFace(llm=model_name)"
   ]
  },
  {
   "cell_type": "code",
   "execution_count": 96,
   "id": "71aeebb1",
   "metadata": {},
   "outputs": [],
   "source": [
    "# model_name=HuggingFaceEndpoint(\n",
    "#     repo_id=\"google/gemma-2-2b-it\",\n",
    "#     task=\"text-generation\"\n",
    "# )\n",
    "# model2=ChatHuggingFace(llm=model_name)"
   ]
  },
  {
   "cell_type": "code",
   "execution_count": 97,
   "id": "1e4019ac",
   "metadata": {},
   "outputs": [
    {
     "name": "stdout",
     "output_type": "stream",
     "text": [
      "input_variables=['text'] input_types={} partial_variables={} template='generate a short and simple note from the following \\n {text}'\n"
     ]
    }
   ],
   "source": [
    "prompt1=PromptTemplate(\n",
    "    template=\"generate a short and simple note from the following \\n {text}\",\n",
    "    input_variables=[\"text\"]\n",
    ")\n",
    "print(prompt1)"
   ]
  },
  {
   "cell_type": "code",
   "execution_count": 98,
   "id": "f4998fdb",
   "metadata": {},
   "outputs": [],
   "source": [
    "output=StrOutputParser()"
   ]
  },
  {
   "cell_type": "code",
   "execution_count": 99,
   "id": "7649a8e4",
   "metadata": {},
   "outputs": [],
   "source": [
    "prompt2=PromptTemplate(\n",
    "    template=\"generate 3 questions and answer from the following \\n {text}\",\n",
    "    input_variables=[\"text\"]\n",
    ")"
   ]
  },
  {
   "cell_type": "code",
   "execution_count": 100,
   "id": "9327c58f",
   "metadata": {},
   "outputs": [],
   "source": [
    "paralell_chain=RunnableParallel(\n",
    "    {\n",
    "        \"note\" : prompt1 | model | output,\n",
    "        \"quiz\" : prompt2 | model | output\n",
    "    }\n",
    ")"
   ]
  },
  {
   "cell_type": "code",
   "execution_count": 101,
   "id": "ca8b2a67",
   "metadata": {},
   "outputs": [],
   "source": [
    "prompt3=PromptTemplate(\n",
    "    template= \" merge the notes {note} and the questions and answers {quiz} in a single document \",\n",
    "    input_variables=[\"note\", \"quiz\"]\n",
    ")"
   ]
  },
  {
   "cell_type": "code",
   "execution_count": 102,
   "id": "5d952e50",
   "metadata": {},
   "outputs": [],
   "source": [
    "merge_chain= prompt3 | model | output\n",
    "chain=paralell_chain|merge_chain"
   ]
  },
  {
   "cell_type": "code",
   "execution_count": 103,
   "id": "de579964",
   "metadata": {},
   "outputs": [],
   "source": [
    "passage=\"\"\"\n",
    "Support vector machines (SVMs) are a set of supervised learning methods used for classification, regression and outliers detection.\n",
    "\n",
    "The advantages of support vector machines are:\n",
    "\n",
    "Effective in high dimensional spaces.\n",
    "\n",
    "Still effective in cases where number of dimensions is greater than the number of samples.\n",
    "\n",
    "Uses a subset of training points in the decision function (called support vectors), so it is also memory efficient.\n",
    "\n",
    "Versatile: different Kernel functions can be specified for the decision function. Common kernels are provided, but it is also possible to specify custom kernels.\n",
    "\n",
    "The disadvantages of support vector machines include:\n",
    "\n",
    "If the number of features is much greater than the number of samples, avoid over-fitting in choosing Kernel functions and regularization term is crucial.\n",
    "\n",
    "SVMs do not directly provide probability estimates, these are calculated using an expensive five-fold cross-validation (see Scores and probabilities, below).\n",
    "\n",
    "The support vector machines in scikit-learn support both dense (numpy.ndarray and convertible to that by numpy.asarray) and sparse (any scipy.sparse) sample vectors as input. However, to use an SVM to make predictions for sparse data, it must have been fit on such data. For optimal performance, use C-ordered numpy.ndarray (dense) or scipy.sparse.csr_matrix (sparse) with dtype=float64.\n",
    "\"\"\""
   ]
  },
  {
   "cell_type": "code",
   "execution_count": 104,
   "id": "a453f4f9",
   "metadata": {},
   "outputs": [
    {
     "data": {
      "text/plain": [
       "'The provided text offers a solid foundation for understanding Support Vector Machines (SVMs). Let\\'s consolidate the key points and add some context to meet your needs.\\n\\n\\n## Support Vector Machines (SVMs): A Primer\\n\\nSupport Vector Machines (SVMs) are powerful supervised learning algorithms used for classification, regression, and outlier detection. They excel in high-dimensional spaces where traditional linear methods falter.\\n\\n**Strengths:**\\n\\n* **Capacity for High Dimensions:** SVMs handle data with many features effectively. They can capture complex non-linear relationships despite a high number of input attributes, making them highly adaptable for real-world problems.\\n* **Memory Efficiency:** They perform well even when data has more features than samples (findings and outliers rely on factors other than just data size.)  They only depend on a subset of training data for decision-making -  the \"support vectors.\"\\n* **Kernel-Driven Flexibility:**  SVMs allow for flexible modeling.  They can be configured with different kernels, which extend beyond linear transformations and allow for achieving powerful non-linear separation. This makes them extremely versatile.\\n\\n**Caveats:**\\n\\n* **Overfitting:**  With a large number of features compared to samples, overfitting can occur (problem is how many features we have compared to the number of samples - the vast majority of features may not be related to the outcome of interest). Strategically selecting the right kernel often helps.  Regularization techniques, like L1 and L2, can also mitigate this. \\n* **Probability Estimation:** SVMs don\\'t provide direct probability assessments. Evaluating model accuracy typically necessitates cross-validation, especially for deep learning applications.\\n\\n\\n**Using SVMs:**\\n\\n* **With Scikit-learn:** Scikit-learn, a popular Python library for machine learning, provides support for both dense (continuous) data and sparse data. \\n    *  **Dense data:**  Options include numpy arrays, specifically `numpy.astype(float64)` - you can use your data as is and it should work. \\n    *  **Sparse data:** Tasks like image feature extraction or social network analysis that generate sparse matrices (\\'scipy.sparse.csr_matrix\\'). In addition, ensure the support matrices contain an appropriate integer value.\\n\\n**Key Considerations for Choosing Kernel Functions:**\\n\\n*  With the help of their kernel functions, SVMs can determine the optimal separation line in several ways.\\n    * **Linear kernels:** For data with a linear relationship.\\n    * **Polynomial kernels:** For cases where a high degree of polynomial mapping to the feature space is desired.\\n    * **Radial basis function kernels:** For non-linear problems where a support vector machine is the best solution for classification errors. \\n    * **Sigmoid Kernel:**  `(0, 1) ** morbidity : ***.  \\n\\n**In Summary:**\\n\\nSVMs are powerful machine learning models with various capabilities.  Their wide applicability in high-dimensional spaces and memory efficiency make them efficient to use. They do require careful strategic implementation to prevent overfitting, and typically happy to work without probabilities.\\n\\n\\n\\nLet me know if you\\'d like to delve deeper into any specific aspect or have further questions about SVMs. '"
      ]
     },
     "execution_count": 104,
     "metadata": {},
     "output_type": "execute_result"
    }
   ],
   "source": [
    "chain.invoke({\"text\" : passage})"
   ]
  },
  {
   "cell_type": "code",
   "execution_count": 105,
   "id": "a9e7e694",
   "metadata": {},
   "outputs": [
    {
     "name": "stdout",
     "output_type": "stream",
     "text": [
      "## Support Vector Machines: A Quick Overview & Detailed Insights\n",
      "\n",
      "**Support Vector Machines (SVMs)**: Powerful Classification and Regression Tool\n",
      "\n",
      "Support Vector Machines (SVMs) are versatile machine learning algorithms used for both classification and regression tasks. They excel at handling high-dimensional data, where features could be irrelevant and high-dimensional space.  SVMs are known for their robustness and flexibility.  \n",
      "\n",
      "**Strengths:**\n",
      "\n",
      "* **Handles high-dimensionality:** SVMs work effectively with large datasets and many features, even when irrelevant features are present.\n",
      "* **Efficient memory use:**  SVMs focus on a subset of training data for decisions, reducing memory consumption. \n",
      "* **Flexible Decision boundaries:** SVMs can accurately define separation lines through a wide range of techniques known as \"kernels\", tailored to the task at hand.\n",
      "\n",
      "**Limitations:**\n",
      "\n",
      "* **High Feature/Sample ratios:** Overfitting is a concern. Effectively choosing parameters and regularization techniques becomes mandatory when dealing with a large number of features compared to training samples.\n",
      "* **Probability estimates:**  SVMs do not provide probabilities directly; getting predictions can mean additional steps, like five-fold cross-validation to achieve confidence in the results.\n",
      "\n",
      " **How to Use SVMs in Scikit-learn:** \n",
      "\n",
      "SVMs in scikit-learn can handle both sparse and dense inputs.  Always make sure that the data is formatted correctly before applying SVM. Ensure you've trained your SVM on the data pattern you want to predict (e.g., a dense NumPy array for a continuous label).\n",
      "\n",
      "**Key Question and Answer Focuses:**\n",
      "\n",
      "It seems you're after a more engaging format for this text. I can offer several styles. \n",
      "\n",
      "**1. Summary and Direct Engagement:**\n",
      "\n",
      "* **Summary:** Use bullet points to present the pros & cons, highlighting key strategies and challenges with example numbers\n",
      "* **Dialogue:** Add a paragraph to encourage an active reader. Ask, \" What kind of datasets do SVMs perform well on?\" \n",
      "\n",
      "\n",
      "**2. Detailed and  Interactive:**\n",
      "\n",
      "* **Tree/Flowchart Style:** visualizes the process clearly and by removing steps can lead to higher understandability.\n",
      "* **Interactive Quiz:** This engages someone and prompts them to test their understanding.\n",
      "\n",
      "\n",
      "**3. Use of Hyperlinks or Interactive Elements:**\n",
      "\n",
      "\n",
      "**Additional Helpful Information:**\n",
      "\n",
      "* **Kernel Functions:** Present this as specialized algorithms that manipulate data before applying a SVM boundary. \n",
      "* **Reflection Model:** Explain the link between SVMs, kernels, and decision boundaries. The goal of a SVM model found through these methods is to find the best separation of data points.\n",
      "* **Probability Estimation Techniques:**  Link SVMs to probability estimation using other machine learning techniques like decision trees or Bayesian estimation as an alternative.\n",
      "\n",
      "\n",
      "\n",
      "Let me know what you would like to optimize.  I can further refine the document and add more detail. \n"
     ]
    }
   ],
   "source": [
    "result=chain.invoke({\"text\" : passage})\n",
    "print(result)\n"
   ]
  },
  {
   "cell_type": "code",
   "execution_count": 106,
   "id": "a287ed01",
   "metadata": {},
   "outputs": [
    {
     "name": "stdout",
     "output_type": "stream",
     "text": [
      "              +--------------------------+               \n",
      "              | Parallel<note,quiz>Input |               \n",
      "              +--------------------------+               \n",
      "                  ***               ***                  \n",
      "               ***                     ***               \n",
      "             **                           **             \n",
      "+----------------+                    +----------------+ \n",
      "| PromptTemplate |                    | PromptTemplate | \n",
      "+----------------+                    +----------------+ \n",
      "          *                                   *          \n",
      "          *                                   *          \n",
      "          *                                   *          \n",
      "+-----------------+                  +-----------------+ \n",
      "| ChatHuggingFace |                  | ChatHuggingFace | \n",
      "+-----------------+                  +-----------------+ \n",
      "          *                                   *          \n",
      "          *                                   *          \n",
      "          *                                   *          \n",
      "+-----------------+                  +-----------------+ \n",
      "| StrOutputParser |                  | StrOutputParser | \n",
      "+-----------------+                  +-----------------+ \n",
      "                  ***               ***                  \n",
      "                     ***         ***                     \n",
      "                        **     **                        \n",
      "              +---------------------------+              \n",
      "              | Parallel<note,quiz>Output |              \n",
      "              +---------------------------+              \n",
      "                            *                            \n",
      "                            *                            \n",
      "                            *                            \n",
      "                   +----------------+                    \n",
      "                   | PromptTemplate |                    \n",
      "                   +----------------+                    \n",
      "                            *                            \n",
      "                            *                            \n",
      "                            *                            \n",
      "                  +-----------------+                    \n",
      "                  | ChatHuggingFace |                    \n",
      "                  +-----------------+                    \n",
      "                            *                            \n",
      "                            *                            \n",
      "                            *                            \n",
      "                  +-----------------+                    \n",
      "                  | StrOutputParser |                    \n",
      "                  +-----------------+                    \n",
      "                            *                            \n",
      "                            *                            \n",
      "                            *                            \n",
      "                +-----------------------+                \n",
      "                | StrOutputParserOutput |                \n",
      "                +-----------------------+                \n"
     ]
    }
   ],
   "source": [
    "chain.get_graph().print_ascii()"
   ]
  },
  {
   "cell_type": "code",
   "execution_count": null,
   "id": "a3b2110d",
   "metadata": {},
   "outputs": [],
   "source": []
  }
 ],
 "metadata": {
  "kernelspec": {
   "display_name": "Python 3",
   "language": "python",
   "name": "python3"
  },
  "language_info": {
   "codemirror_mode": {
    "name": "ipython",
    "version": 3
   },
   "file_extension": ".py",
   "mimetype": "text/x-python",
   "name": "python",
   "nbconvert_exporter": "python",
   "pygments_lexer": "ipython3",
   "version": "3.13.5"
  }
 },
 "nbformat": 4,
 "nbformat_minor": 5
}
