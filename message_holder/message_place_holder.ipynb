{
 "cells": [
  {
   "cell_type": "code",
   "execution_count": 23,
   "id": "6c8add23",
   "metadata": {},
   "outputs": [],
   "source": [
    "from langchain_core.prompts import ChatMessagePromptTemplate, ChatPromptTemplate, MessagesPlaceholder"
   ]
  },
  {
   "cell_type": "code",
   "execution_count": 24,
   "id": "ebc5343c",
   "metadata": {},
   "outputs": [],
   "source": [
    "chat_template=ChatPromptTemplate([\n",
    "    (\"system\", \"you are anime watcher and expert in this field\"),\n",
    "    MessagesPlaceholder(variable_name=\"chat_hist\"),\n",
    "    (\"human\", \"{query}\")\n",
    "]\n",
    ")"
   ]
  },
  {
   "cell_type": "code",
   "execution_count": 25,
   "id": "7cee632a",
   "metadata": {},
   "outputs": [],
   "source": [
    "chat_history=[]\n",
    "with open(\"history.txt\") as f:\n",
    "    chat_history.extend(f.readlines())"
   ]
  },
  {
   "cell_type": "code",
   "execution_count": 26,
   "id": "c9291bdb",
   "metadata": {},
   "outputs": [],
   "source": [
    "prompt=chat_template.invoke({\"chat_hist\":chat_history, \"query\":\"don't forget my previous chat\"})"
   ]
  },
  {
   "cell_type": "code",
   "execution_count": 27,
   "id": "ee3835cd",
   "metadata": {},
   "outputs": [
    {
     "name": "stdout",
     "output_type": "stream",
     "text": [
      "messages=[SystemMessage(content='you are anime watcher and expert in this field', additional_kwargs={}, response_metadata={}), HumanMessage(content='HumanMessage(content=\"but my favourinte anime is tonikaku kawaii\")\\n', additional_kwargs={}, response_metadata={}), HumanMessage(content='AIMessage(content=\"sorry for wrong answer\")\\n', additional_kwargs={}, response_metadata={}), HumanMessage(content=\"don't forget my previous chat\", additional_kwargs={}, response_metadata={})]\n"
     ]
    }
   ],
   "source": [
    "print(prompt)"
   ]
  },
  {
   "cell_type": "code",
   "execution_count": null,
   "id": "a508f682",
   "metadata": {},
   "outputs": [],
   "source": []
  }
 ],
 "metadata": {
  "kernelspec": {
   "display_name": "Python 3",
   "language": "python",
   "name": "python3"
  },
  "language_info": {
   "codemirror_mode": {
    "name": "ipython",
    "version": 3
   },
   "file_extension": ".py",
   "mimetype": "text/x-python",
   "name": "python",
   "nbconvert_exporter": "python",
   "pygments_lexer": "ipython3",
   "version": "3.13.5"
  }
 },
 "nbformat": 4,
 "nbformat_minor": 5
}
