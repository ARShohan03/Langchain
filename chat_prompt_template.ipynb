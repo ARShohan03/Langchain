{
 "cells": [
  {
   "cell_type": "code",
   "execution_count": 3,
   "id": "143b8e99",
   "metadata": {},
   "outputs": [],
   "source": [
    "from langchain_core.prompts import ChatPromptTemplate\n",
    "\n",
    "chat_template=ChatPromptTemplate(\n",
    "    [\n",
    "     (\"system\", \"you are a knowledgable {domain} expert\"),\n",
    "     (\"human\", \"explain in simple terms, what is {topic}?give your opninion\")   \n",
    "    ]\n",
    ")"
   ]
  },
  {
   "cell_type": "code",
   "execution_count": 6,
   "id": "0c567ddd",
   "metadata": {},
   "outputs": [],
   "source": [
    "prompt=chat_template.invoke({\"domain\" : \"anime\", \"topic\" : \"code geass\"})"
   ]
  },
  {
   "cell_type": "code",
   "execution_count": 7,
   "id": "4ac88a7c",
   "metadata": {},
   "outputs": [
    {
     "name": "stdout",
     "output_type": "stream",
     "text": [
      "messages=[SystemMessage(content='you are a knowledgable anime expert', additional_kwargs={}, response_metadata={}), HumanMessage(content='explain in simple terms, what is code geass?give your opninion', additional_kwargs={}, response_metadata={})]\n"
     ]
    }
   ],
   "source": [
    "print(prompt)"
   ]
  },
  {
   "cell_type": "code",
   "execution_count": null,
   "id": "415a63e9",
   "metadata": {},
   "outputs": [],
   "source": []
  }
 ],
 "metadata": {
  "kernelspec": {
   "display_name": "Python 3",
   "language": "python",
   "name": "python3"
  },
  "language_info": {
   "codemirror_mode": {
    "name": "ipython",
    "version": 3
   },
   "file_extension": ".py",
   "mimetype": "text/x-python",
   "name": "python",
   "nbconvert_exporter": "python",
   "pygments_lexer": "ipython3",
   "version": "3.13.5"
  }
 },
 "nbformat": 4,
 "nbformat_minor": 5
}
